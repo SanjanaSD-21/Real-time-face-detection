{
 "cells": [
  {
   "cell_type": "code",
   "execution_count": 8,
   "metadata": {},
   "outputs": [],
   "source": [
    "import cv2\n",
    "import os\n",
    "\n",
    "cascPath=os.path.dirname(cv2.__file__)+\"/data/haarcascade_frontalface_default.xml\"\n",
    "faceCascade = cv2.CascadeClassifier(cascPath)\n",
    "video_capture = cv2.VideoCapture(0)   # use laptop webcam for capturing\n",
    "frames_width = int(video_capture.get(3))\n",
    "frames_height = int(video_capture.get(4))\n",
    "# Define the codec and create VideoWriter object.The output is stored in 'output.avi' file\n",
    "out = cv2.VideoWriter('output.avi',cv2.VideoWriter_fourcc('M','J','P','G'), 10, (frames_width,frames_height))\n",
    "while True:\n",
    "    # Capture frame-by-frame\n",
    "    ret, frames = video_capture.read()\n",
    "    gray = cv2.cvtColor(frames, cv2.COLOR_BGR2GRAY)\n",
    "    faces = faceCascade.detectMultiScale( gray,\n",
    "        scaleFactor=1.1,\n",
    "        minNeighbors=5,\n",
    "        minSize=(30, 30),\n",
    "        flags=cv2.CASCADE_SCALE_IMAGE\n",
    "    )\n",
    "    # Draw a rectangle around the detected faces\n",
    "    for (x, y, w, h) in faces:\n",
    "        cv2.rectangle(frames, (x, y), (x+w, y+h), (0, 255, 0), 6)\n",
    "        out.write(frames)\n",     
    "    # Frames that is video written to output.avi. Display the resulting frame in output window\n",
    "    cv2.imshow('Video_output', frames)\n",
    "    if cv2.waitKey(1) & 0xFF == ord('q'):\n",
    "        break\n",
    "video_capture.release()\n",
    "cv2.destroyAllWindows()"
   ]
  },
  {
   "cell_type": "code",
   "execution_count": null,
   "metadata": {},
   "outputs": [],
   "source": []
  },
  {
   "cell_type": "code",
   "execution_count": null,
   "metadata": {},
   "outputs": [],
   "source": []
  }
 ],
 "metadata": {
  "kernelspec": {
   "display_name": "Python 3",
   "language": "python",
   "name": "python3"
  },
  "language_info": {
   "codemirror_mode": {
    "name": "ipython",
    "version": 3
   },
   "file_extension": ".py",
   "mimetype": "text/x-python",
   "name": "python",
   "nbconvert_exporter": "python",
   "pygments_lexer": "ipython3",
   "version": "3.7.6"
  }
 },
 "nbformat": 4,
 "nbformat_minor": 4
}
